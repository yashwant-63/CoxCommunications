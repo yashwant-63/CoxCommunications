{
 "cells": [
  {
   "cell_type": "code",
   "execution_count": 2,
   "metadata": {},
   "outputs": [],
   "source": [
    "import pandas as pd \n",
    "import numpy as np\n",
    "import os \n",
    "import glob \n",
    "import re \n",
    "import matplotlib.pyplot as plt"
   ]
  },
  {
   "cell_type": "code",
   "execution_count": 3,
   "metadata": {},
   "outputs": [],
   "source": [
    "path = '//Users//yashwant//Documents//Documents - Yashwant’s MacBook Pro//Academics//Projects//Cox//fbc//'\n",
    "#df1 = pd.read_csv(path+'//MM106.csv')\n",
    "csv_files = glob.glob(os.path.join(path, \"*.csv\"))      "
   ]
  },
  {
   "cell_type": "code",
   "execution_count": 9,
   "metadata": {},
   "outputs": [],
   "source": [
    "path1 = '//Users//yashwant//Documents//Documents - Yashwant’s MacBook Pro//Academics//Projects//Cox//parquet_test'"
   ]
  },
  {
   "cell_type": "code",
   "execution_count": 7,
   "metadata": {},
   "outputs": [
    {
     "name": "stdout",
     "output_type": "stream",
     "text": [
      "12.1 s ± 115 ms per loop (mean ± std. dev. of 7 runs, 1 loop each)\n"
     ]
    }
   ],
   "source": [
    "%%timeit\n",
    "for csv_file in csv_files:\n",
    "    pd.read_csv(csv_file)"
   ]
  },
  {
   "cell_type": "code",
   "execution_count": 12,
   "metadata": {},
   "outputs": [],
   "source": [
    "length = len(csv_files[0].split('//'))\n",
    "\n",
    "\n",
    "for csv_file in csv_files:\n",
    "    new_col_name = csv_file.split('//')[length-1].split('.')[0].split('/')[1]\n",
    "    pd.read_csv(csv_file).to_parquet(path1 + '//' + new_col_name + '.parquet')"
   ]
  },
  {
   "cell_type": "code",
   "execution_count": 13,
   "metadata": {},
   "outputs": [],
   "source": [
    "parquet_files = glob.glob(os.path.join(path1, \"*.parquet\"))"
   ]
  },
  {
   "cell_type": "code",
   "execution_count": 14,
   "metadata": {},
   "outputs": [
    {
     "name": "stdout",
     "output_type": "stream",
     "text": [
      "1.66 s ± 23.8 ms per loop (mean ± std. dev. of 7 runs, 1 loop each)\n"
     ]
    }
   ],
   "source": [
    "%%timeit\n",
    "for parquet_file in parquet_files:\n",
    "    pd.read_parquet(parquet_file)"
   ]
  }
 ],
 "metadata": {
  "interpreter": {
   "hash": "b23f1f5c5e348adf20a760355672f44346ff8bb2e5204957b4de87f35c6f569b"
  },
  "kernelspec": {
   "display_name": "Python 3",
   "language": "python",
   "name": "python3"
  },
  "language_info": {
   "codemirror_mode": {
    "name": "ipython",
    "version": 3
   },
   "file_extension": ".py",
   "mimetype": "text/x-python",
   "name": "python",
   "nbconvert_exporter": "python",
   "pygments_lexer": "ipython3",
   "version": "3.8.8"
  }
 },
 "nbformat": 4,
 "nbformat_minor": 2
}
